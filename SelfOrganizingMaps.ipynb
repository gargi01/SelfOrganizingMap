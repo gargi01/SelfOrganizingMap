{
 "cells": [
  {
   "cell_type": "markdown",
   "id": "3a23f18e",
   "metadata": {
    "papermill": {
     "duration": 0.006386,
     "end_time": "2022-07-19T15:45:18.980253",
     "exception": false,
     "start_time": "2022-07-19T15:45:18.973867",
     "status": "completed"
    },
    "tags": []
   },
   "source": [
    "## Introduction"
   ]
  },
  {
   "cell_type": "markdown",
   "id": "06dd6d38",
   "metadata": {
    "papermill": {
     "duration": 0.005518,
     "end_time": "2022-07-19T15:45:18.991391",
     "exception": false,
     "start_time": "2022-07-19T15:45:18.985873",
     "status": "completed"
    },
    "tags": []
   },
   "source": [
    "The Self Organizing Maps (SOM) are a type of Artificial Neural Networks able to convert complex, nonlinear statistical relationships between high-dimensional data items into simple geometric relationships on a low-dimensional display."
   ]
  },
  {
   "cell_type": "markdown",
   "id": "b1bf8f5a",
   "metadata": {
    "papermill": {
     "duration": 0.004716,
     "end_time": "2022-07-19T15:45:19.001304",
     "exception": false,
     "start_time": "2022-07-19T15:45:18.996588",
     "status": "completed"
    },
    "tags": []
   },
   "source": [
    "The figure below illustrates how we train a self-organizing map. The purple blob is the distribution of the training data. The small white disc is the current training data point drawn from that distribution. At first, the SOM nodes are arbitrarily positioned in the data space. The node (highlighted in yellow) nearest the training data point is selected. It is pulled towards the training data point. In each iteration, the nearest neighbors within a specified radius are also pulled towards this yellow node and their weights get updated. After many iterations, the grid tends to approximate the data distribution (right)."
   ]
  },
  {
   "cell_type": "markdown",
   "id": "38124b22",
   "metadata": {
    "papermill": {
     "duration": 0.00551,
     "end_time": "2022-07-19T15:45:19.012552",
     "exception": false,
     "start_time": "2022-07-19T15:45:19.007042",
     "status": "completed"
    },
    "tags": []
   },
   "source": [
    "![](https://miro.medium.com/max/1020/0*dBXfz_LzfZx-2vR8)"
   ]
  },
  {
   "cell_type": "markdown",
   "id": "3f14c9de",
   "metadata": {
    "papermill": {
     "duration": 0.005223,
     "end_time": "2022-07-19T15:45:19.023035",
     "exception": false,
     "start_time": "2022-07-19T15:45:19.017812",
     "status": "completed"
    },
    "tags": []
   },
   "source": [
    "The Euclidean distance to all weight vectors is computed when we feed the training data into the network. The neuron whose weight vector is most similar to the input is called the best matching unit (BMU). The weights of the BMU and neurons close to it in the SOM grid are adjusted towards the input vector. Once the BMU has been determined, the next step is to calculate which of the other nodes are within the BMU’s neighborhood."
   ]
  },
  {
   "cell_type": "markdown",
   "id": "fd878f64",
   "metadata": {
    "papermill": {
     "duration": 0.00476,
     "end_time": "2022-07-19T15:45:19.032800",
     "exception": false,
     "start_time": "2022-07-19T15:45:19.028040",
     "status": "completed"
    },
    "tags": []
   },
   "source": [
    "- SOMs differ from other artificial neural networks because they apply competitive learning as opposed to error correlated learning, which involves backpropagation and gradient descent. \n",
    "- The training data usually has no labels and the map learns to differentiate and distinguish features based on similarities.\n",
    "- SOMs are used for Visualization purposes, fraud detection among other applications"
   ]
  },
  {
   "cell_type": "markdown",
   "id": "2306f7a4",
   "metadata": {
    "papermill": {
     "duration": 0.00476,
     "end_time": "2022-07-19T15:45:19.042662",
     "exception": false,
     "start_time": "2022-07-19T15:45:19.037902",
     "status": "completed"
    },
    "tags": []
   },
   "source": [
    "## Import Libraries"
   ]
  },
  {
   "cell_type": "code",
   "execution_count": 1,
   "id": "8f1ad16b",
   "metadata": {
    "_cell_guid": "b1076dfc-b9ad-4769-8c92-a6c4dae69d19",
    "_uuid": "8f2839f25d086af736a60e9eeb907d3b93b6e0e5",
    "execution": {
     "iopub.execute_input": "2022-07-19T15:45:19.056374Z",
     "iopub.status.busy": "2022-07-19T15:45:19.055705Z",
     "iopub.status.idle": "2022-07-19T15:45:19.071541Z",
     "shell.execute_reply": "2022-07-19T15:45:19.070679Z"
    },
    "papermill": {
     "duration": 0.025402,
     "end_time": "2022-07-19T15:45:19.074071",
     "exception": false,
     "start_time": "2022-07-19T15:45:19.048669",
     "status": "completed"
    },
    "tags": []
   },
   "outputs": [
    {
     "name": "stdout",
     "output_type": "stream",
     "text": [
      "/kaggle/input/credit-card-applications/Credit_Card_Applications.csv\n"
     ]
    }
   ],
   "source": [
    "# This Python 3 environment comes with many helpful analytics libraries installed\n",
    "# It is defined by the kaggle/python Docker image: https://github.com/kaggle/docker-python\n",
    "# For example, here's several helpful packages to load\n",
    "\n",
    "import numpy as np # linear algebra\n",
    "import pandas as pd # data processing, CSV file I/O (e.g. pd.read_csv)\n",
    "\n",
    "# Input data files are available in the read-only \"../input/\" directory\n",
    "# For example, running this (by clicking run or pressing Shift+Enter) will list all files under the input directory\n",
    "\n",
    "import os\n",
    "for dirname, _, filenames in os.walk('/kaggle/input'):\n",
    "    for filename in filenames:\n",
    "        print(os.path.join(dirname, filename))\n",
    "\n",
    "# You can write up to 20GB to the current directory (/kaggle/working/) that gets preserved as output when you create a version using \"Save & Run All\" \n",
    "# You can also write temporary files to /kaggle/temp/, but they won't be saved outside of the current session"
   ]
  },
  {
   "cell_type": "code",
   "execution_count": 2,
   "id": "8deeb40c",
   "metadata": {
    "execution": {
     "iopub.execute_input": "2022-07-19T15:45:19.086516Z",
     "iopub.status.busy": "2022-07-19T15:45:19.085869Z",
     "iopub.status.idle": "2022-07-19T15:45:32.427591Z",
     "shell.execute_reply": "2022-07-19T15:45:32.426010Z"
    },
    "papermill": {
     "duration": 13.351256,
     "end_time": "2022-07-19T15:45:32.430565",
     "exception": false,
     "start_time": "2022-07-19T15:45:19.079309",
     "status": "completed"
    },
    "tags": []
   },
   "outputs": [
    {
     "name": "stdout",
     "output_type": "stream",
     "text": [
      "Collecting MiniSom\r\n",
      "  Downloading MiniSom-2.3.0.tar.gz (8.8 kB)\r\n",
      "  Preparing metadata (setup.py) ... \u001b[?25l-\b \bdone\r\n",
      "\u001b[?25hBuilding wheels for collected packages: MiniSom\r\n",
      "  Building wheel for MiniSom (setup.py) ... \u001b[?25l-\b \b\\\b \bdone\r\n",
      "\u001b[?25h  Created wheel for MiniSom: filename=MiniSom-2.3.0-py3-none-any.whl size=9018 sha256=a6347b52e2b3a903ec9210b4fb7c4a5b42e80f72cf67cc88cc1caa152fd53445\r\n",
      "  Stored in directory: /root/.cache/pip/wheels/d4/ca/4a/488772b0399fec45ff53132ed14c948dec4b30deee3a532f80\r\n",
      "Successfully built MiniSom\r\n",
      "Installing collected packages: MiniSom\r\n",
      "Successfully installed MiniSom-2.3.0\r\n",
      "\u001b[33mWARNING: Running pip as the 'root' user can result in broken permissions and conflicting behaviour with the system package manager. It is recommended to use a virtual environment instead: https://pip.pypa.io/warnings/venv\u001b[0m\u001b[33m\r\n",
      "\u001b[0m"
     ]
    }
   ],
   "source": [
    "!pip install MiniSom"
   ]
  },
  {
   "cell_type": "code",
   "execution_count": 3,
   "id": "7b5d7ddd",
   "metadata": {
    "execution": {
     "iopub.execute_input": "2022-07-19T15:45:32.444993Z",
     "iopub.status.busy": "2022-07-19T15:45:32.444596Z",
     "iopub.status.idle": "2022-07-19T15:45:33.543092Z",
     "shell.execute_reply": "2022-07-19T15:45:33.541933Z"
    },
    "papermill": {
     "duration": 1.108558,
     "end_time": "2022-07-19T15:45:33.545687",
     "exception": false,
     "start_time": "2022-07-19T15:45:32.437129",
     "status": "completed"
    },
    "tags": []
   },
   "outputs": [],
   "source": [
    "import matplotlib.pyplot as plt\n",
    "from sklearn.preprocessing import MinMaxScaler\n",
    "from minisom import MiniSom\n",
    "from pylab import bone, pcolor, colorbar, plot, show"
   ]
  },
  {
   "cell_type": "markdown",
   "id": "c6f4a0f9",
   "metadata": {
    "papermill": {
     "duration": 0.005659,
     "end_time": "2022-07-19T15:45:33.557132",
     "exception": false,
     "start_time": "2022-07-19T15:45:33.551473",
     "status": "completed"
    },
    "tags": []
   },
   "source": [
    "## Load Data"
   ]
  },
  {
   "cell_type": "code",
   "execution_count": 4,
   "id": "281fa70b",
   "metadata": {
    "execution": {
     "iopub.execute_input": "2022-07-19T15:45:33.570319Z",
     "iopub.status.busy": "2022-07-19T15:45:33.569515Z",
     "iopub.status.idle": "2022-07-19T15:45:33.605447Z",
     "shell.execute_reply": "2022-07-19T15:45:33.604220Z"
    },
    "papermill": {
     "duration": 0.04476,
     "end_time": "2022-07-19T15:45:33.607524",
     "exception": false,
     "start_time": "2022-07-19T15:45:33.562764",
     "status": "completed"
    },
    "tags": []
   },
   "outputs": [
    {
     "data": {
      "text/html": [
       "<div>\n",
       "<style scoped>\n",
       "    .dataframe tbody tr th:only-of-type {\n",
       "        vertical-align: middle;\n",
       "    }\n",
       "\n",
       "    .dataframe tbody tr th {\n",
       "        vertical-align: top;\n",
       "    }\n",
       "\n",
       "    .dataframe thead th {\n",
       "        text-align: right;\n",
       "    }\n",
       "</style>\n",
       "<table border=\"1\" class=\"dataframe\">\n",
       "  <thead>\n",
       "    <tr style=\"text-align: right;\">\n",
       "      <th></th>\n",
       "      <th>CustomerID</th>\n",
       "      <th>A1</th>\n",
       "      <th>A2</th>\n",
       "      <th>A3</th>\n",
       "      <th>A4</th>\n",
       "      <th>A5</th>\n",
       "      <th>A6</th>\n",
       "      <th>A7</th>\n",
       "      <th>A8</th>\n",
       "      <th>A9</th>\n",
       "      <th>A10</th>\n",
       "      <th>A11</th>\n",
       "      <th>A12</th>\n",
       "      <th>A13</th>\n",
       "      <th>A14</th>\n",
       "      <th>Class</th>\n",
       "    </tr>\n",
       "  </thead>\n",
       "  <tbody>\n",
       "    <tr>\n",
       "      <th>0</th>\n",
       "      <td>15776156</td>\n",
       "      <td>1</td>\n",
       "      <td>22.08</td>\n",
       "      <td>11.46</td>\n",
       "      <td>2</td>\n",
       "      <td>4</td>\n",
       "      <td>4</td>\n",
       "      <td>1.585</td>\n",
       "      <td>0</td>\n",
       "      <td>0</td>\n",
       "      <td>0</td>\n",
       "      <td>1</td>\n",
       "      <td>2</td>\n",
       "      <td>100</td>\n",
       "      <td>1213</td>\n",
       "      <td>0</td>\n",
       "    </tr>\n",
       "    <tr>\n",
       "      <th>1</th>\n",
       "      <td>15739548</td>\n",
       "      <td>0</td>\n",
       "      <td>22.67</td>\n",
       "      <td>7.00</td>\n",
       "      <td>2</td>\n",
       "      <td>8</td>\n",
       "      <td>4</td>\n",
       "      <td>0.165</td>\n",
       "      <td>0</td>\n",
       "      <td>0</td>\n",
       "      <td>0</td>\n",
       "      <td>0</td>\n",
       "      <td>2</td>\n",
       "      <td>160</td>\n",
       "      <td>1</td>\n",
       "      <td>0</td>\n",
       "    </tr>\n",
       "    <tr>\n",
       "      <th>2</th>\n",
       "      <td>15662854</td>\n",
       "      <td>0</td>\n",
       "      <td>29.58</td>\n",
       "      <td>1.75</td>\n",
       "      <td>1</td>\n",
       "      <td>4</td>\n",
       "      <td>4</td>\n",
       "      <td>1.250</td>\n",
       "      <td>0</td>\n",
       "      <td>0</td>\n",
       "      <td>0</td>\n",
       "      <td>1</td>\n",
       "      <td>2</td>\n",
       "      <td>280</td>\n",
       "      <td>1</td>\n",
       "      <td>0</td>\n",
       "    </tr>\n",
       "    <tr>\n",
       "      <th>3</th>\n",
       "      <td>15687688</td>\n",
       "      <td>0</td>\n",
       "      <td>21.67</td>\n",
       "      <td>11.50</td>\n",
       "      <td>1</td>\n",
       "      <td>5</td>\n",
       "      <td>3</td>\n",
       "      <td>0.000</td>\n",
       "      <td>1</td>\n",
       "      <td>1</td>\n",
       "      <td>11</td>\n",
       "      <td>1</td>\n",
       "      <td>2</td>\n",
       "      <td>0</td>\n",
       "      <td>1</td>\n",
       "      <td>1</td>\n",
       "    </tr>\n",
       "    <tr>\n",
       "      <th>4</th>\n",
       "      <td>15715750</td>\n",
       "      <td>1</td>\n",
       "      <td>20.17</td>\n",
       "      <td>8.17</td>\n",
       "      <td>2</td>\n",
       "      <td>6</td>\n",
       "      <td>4</td>\n",
       "      <td>1.960</td>\n",
       "      <td>1</td>\n",
       "      <td>1</td>\n",
       "      <td>14</td>\n",
       "      <td>0</td>\n",
       "      <td>2</td>\n",
       "      <td>60</td>\n",
       "      <td>159</td>\n",
       "      <td>1</td>\n",
       "    </tr>\n",
       "  </tbody>\n",
       "</table>\n",
       "</div>"
      ],
      "text/plain": [
       "   CustomerID  A1     A2     A3  A4  A5  A6     A7  A8  A9  A10  A11  A12  \\\n",
       "0    15776156   1  22.08  11.46   2   4   4  1.585   0   0    0    1    2   \n",
       "1    15739548   0  22.67   7.00   2   8   4  0.165   0   0    0    0    2   \n",
       "2    15662854   0  29.58   1.75   1   4   4  1.250   0   0    0    1    2   \n",
       "3    15687688   0  21.67  11.50   1   5   3  0.000   1   1   11    1    2   \n",
       "4    15715750   1  20.17   8.17   2   6   4  1.960   1   1   14    0    2   \n",
       "\n",
       "   A13   A14  Class  \n",
       "0  100  1213      0  \n",
       "1  160     1      0  \n",
       "2  280     1      0  \n",
       "3    0     1      1  \n",
       "4   60   159      1  "
      ]
     },
     "execution_count": 4,
     "metadata": {},
     "output_type": "execute_result"
    }
   ],
   "source": [
    "df= pd.read_csv(\"../input/credit-card-applications/Credit_Card_Applications.csv\")\n",
    "df.head()"
   ]
  },
  {
   "cell_type": "markdown",
   "id": "50dcce43",
   "metadata": {
    "papermill": {
     "duration": 0.005631,
     "end_time": "2022-07-19T15:45:33.619005",
     "exception": false,
     "start_time": "2022-07-19T15:45:33.613374",
     "status": "completed"
    },
    "tags": []
   },
   "source": [
    "SOM is an unsupervised algorithm. Hence, we need to remove Target variable from our dataframe for our analysis"
   ]
  },
  {
   "cell_type": "code",
   "execution_count": 5,
   "id": "fb65ed0a",
   "metadata": {
    "execution": {
     "iopub.execute_input": "2022-07-19T15:45:33.633764Z",
     "iopub.status.busy": "2022-07-19T15:45:33.632705Z",
     "iopub.status.idle": "2022-07-19T15:45:33.646968Z",
     "shell.execute_reply": "2022-07-19T15:45:33.645903Z"
    },
    "papermill": {
     "duration": 0.02426,
     "end_time": "2022-07-19T15:45:33.649107",
     "exception": false,
     "start_time": "2022-07-19T15:45:33.624847",
     "status": "completed"
    },
    "tags": []
   },
   "outputs": [
    {
     "data": {
      "text/plain": [
       "pandas.core.series.Series"
      ]
     },
     "execution_count": 5,
     "metadata": {},
     "output_type": "execute_result"
    }
   ],
   "source": [
    "X= df.drop(\"Class\", axis=1)\n",
    "\n",
    "y=df[\"Class\"]\n",
    "\n",
    "type(y)\n",
    "# y cannot be pandas dataframe"
   ]
  },
  {
   "cell_type": "markdown",
   "id": "63168c02",
   "metadata": {
    "papermill": {
     "duration": 0.005765,
     "end_time": "2022-07-19T15:45:33.660828",
     "exception": false,
     "start_time": "2022-07-19T15:45:33.655063",
     "status": "completed"
    },
    "tags": []
   },
   "source": [
    "### Feature Scaling"
   ]
  },
  {
   "cell_type": "code",
   "execution_count": 6,
   "id": "6ec5230f",
   "metadata": {
    "execution": {
     "iopub.execute_input": "2022-07-19T15:45:33.674446Z",
     "iopub.status.busy": "2022-07-19T15:45:33.674055Z",
     "iopub.status.idle": "2022-07-19T15:45:33.686943Z",
     "shell.execute_reply": "2022-07-19T15:45:33.685857Z"
    },
    "papermill": {
     "duration": 0.02235,
     "end_time": "2022-07-19T15:45:33.689092",
     "exception": false,
     "start_time": "2022-07-19T15:45:33.666742",
     "status": "completed"
    },
    "tags": []
   },
   "outputs": [
    {
     "data": {
      "text/plain": [
       "numpy.ndarray"
      ]
     },
     "execution_count": 6,
     "metadata": {},
     "output_type": "execute_result"
    }
   ],
   "source": [
    "# Like all Unsupervised algorithms, in SOM also we should scale our features for more accurate results\n",
    "sc = MinMaxScaler(feature_range = (0,1))\n",
    "sc.fit(X)\n",
    "X=sc.transform(X)\n",
    "type(X)\n",
    "# minisom expects input in numpy array, so we will not convert X to pandas dataframe"
   ]
  },
  {
   "cell_type": "markdown",
   "id": "22d02f0b",
   "metadata": {
    "papermill": {
     "duration": 0.005643,
     "end_time": "2022-07-19T15:45:33.700737",
     "exception": false,
     "start_time": "2022-07-19T15:45:33.695094",
     "status": "completed"
    },
    "tags": []
   },
   "source": [
    "## Training the SOM"
   ]
  },
  {
   "cell_type": "markdown",
   "id": "2b0736db",
   "metadata": {
    "papermill": {
     "duration": 0.005968,
     "end_time": "2022-07-19T15:45:33.712568",
     "exception": false,
     "start_time": "2022-07-19T15:45:33.706600",
     "status": "completed"
    },
    "tags": []
   },
   "source": [
    "MiniSom is a minimalistic and Numpy based implementation of the Self Organizing Maps (SOM). <br>\n",
    "This means that in order to use MiniSom, your data needs to be organized as a Numpy matrix where each row corresponds to an observation or as list of lists. <br>\n",
    "Our input data X is already in numpy.ndrray format"
   ]
  },
  {
   "cell_type": "markdown",
   "id": "d59d6c72",
   "metadata": {
    "papermill": {
     "duration": 0.005682,
     "end_time": "2022-07-19T15:45:33.724418",
     "exception": false,
     "start_time": "2022-07-19T15:45:33.718736",
     "status": "completed"
    },
    "tags": []
   },
   "source": [
    "**Parameters:** <br>\n",
    "- __x, y__ : correspond to the dimensions of the SOM\n",
    "- __input_len__ : number of features used in the training dataset\n",
    "- __Sigma__ : is the radius of the different neighbors in the SOM. The default value for this is 1.0.\n",
    "- **learning_rate** : determines how much weights are adjusted during each iteration.\n",
    "- The training algorithm implemented decreases both parameters (sigma and learning_rate) as training progresses. This allows rapid initial training of the neural network that is then \"fine tuned\" as training progresses.\n",
    "- MiniSom implements two types of training: train_random and train_batch. In __train_random__, we train the model by picking random samples from our data. In __train_batch__, the samples are picked in the order that they are stored. \n",
    "- **random_weights_init** method initializes the weights by picking random samples from the data.\n"
   ]
  },
  {
   "cell_type": "code",
   "execution_count": 7,
   "id": "21ade152",
   "metadata": {
    "execution": {
     "iopub.execute_input": "2022-07-19T15:45:33.738812Z",
     "iopub.status.busy": "2022-07-19T15:45:33.738067Z",
     "iopub.status.idle": "2022-07-19T15:45:33.751355Z",
     "shell.execute_reply": "2022-07-19T15:45:33.750250Z"
    },
    "papermill": {
     "duration": 0.02309,
     "end_time": "2022-07-19T15:45:33.753767",
     "exception": false,
     "start_time": "2022-07-19T15:45:33.730677",
     "status": "completed"
    },
    "tags": []
   },
   "outputs": [],
   "source": [
    "som = MiniSom(x=10, y=10, input_len= 15, sigma= 1.0, learning_rate = 0.5)\n",
    "som.random_weights_init(X)\n",
    "som.train_random(data = X, num_iteration = 100)"
   ]
  },
  {
   "cell_type": "markdown",
   "id": "cc421643",
   "metadata": {
    "papermill": {
     "duration": 0.005722,
     "end_time": "2022-07-19T15:45:33.765599",
     "exception": false,
     "start_time": "2022-07-19T15:45:33.759877",
     "status": "completed"
    },
    "tags": []
   },
   "source": [
    "## Visualizing the Results"
   ]
  },
  {
   "cell_type": "markdown",
   "id": "ac2c7b2b",
   "metadata": {
    "papermill": {
     "duration": 0.006315,
     "end_time": "2022-07-19T15:45:33.777882",
     "exception": false,
     "start_time": "2022-07-19T15:45:33.771567",
     "status": "completed"
    },
    "tags": []
   },
   "source": [
    "- **bone**: Set the colormap to 'bone'. This changes the default colormap as well as the colormap of the current image if there is one.\n",
    "- **pcolor**: Create a pseudocolor plot with a non-regular rectangular grid.\n",
    "- **distance_map**: Returns all mean inter-neuron distances for all winning nodes\n",
    "- **colorbar**: The colorbar() function in pyplot module of matplotlib adds a colorbar to a plot indicating the color scale.\n",
    "- **winner**: To obtain the position of the winning neuron on the map for a given sample"
   ]
  },
  {
   "cell_type": "code",
   "execution_count": 8,
   "id": "e48633fb",
   "metadata": {
    "execution": {
     "iopub.execute_input": "2022-07-19T15:45:33.792199Z",
     "iopub.status.busy": "2022-07-19T15:45:33.791488Z",
     "iopub.status.idle": "2022-07-19T15:45:34.883053Z",
     "shell.execute_reply": "2022-07-19T15:45:34.881931Z"
    },
    "papermill": {
     "duration": 1.101422,
     "end_time": "2022-07-19T15:45:34.885413",
     "exception": false,
     "start_time": "2022-07-19T15:45:33.783991",
     "status": "completed"
    },
    "tags": []
   },
   "outputs": [
    {
     "data": {
      "image/png": "[encoded data removed]",
      "text/plain": [
       "<Figure size 432x288 with 2 Axes>"
      ]
     },
     "metadata": {
      "needs_background": "light"
     },
     "output_type": "display_data"
    }
   ],
   "source": [
    "bone()\n",
    "pcolor(som.distance_map().T) # distance map as background\n",
    "colorbar()\n",
    "markers = ['o', 's']\n",
    "colors = ['r', 'g']\n",
    "for i, x in enumerate(X):\n",
    "    w = som.winner(x)\n",
    "    # w[0], w[1] will place the marker at bottom left corner of the rectangle. \n",
    "    #Let us add 0.5 to both of these to plot the market at the center of the rectange.\n",
    "    plot(w[0] + 0.5, \n",
    "         w[1] + 0.5,\n",
    "         #Target value 0 will have marker \"o\" with color \"r\"\n",
    "         #Target value 1 will have marker \"s\" with color \"g\"\n",
    "         markers[y[i]], \n",
    "         markeredgecolor = colors[y[i]],\n",
    "         markerfacecolor = 'None', #No color fill inside markers\n",
    "         markersize = 10,\n",
    "         markeredgewidth = 2)\n",
    "show()"
   ]
  },
  {
   "cell_type": "markdown",
   "id": "7ba23b9c",
   "metadata": {
    "papermill": {
     "duration": 0.006483,
     "end_time": "2022-07-19T15:45:34.898476",
     "exception": false,
     "start_time": "2022-07-19T15:45:34.891993",
     "status": "completed"
    },
    "tags": []
   },
   "source": [
    "## Finding the Frauds"
   ]
  },
  {
   "cell_type": "markdown",
   "id": "b43bc0f2",
   "metadata": {
    "papermill": {
     "duration": 0.006403,
     "end_time": "2022-07-19T15:45:34.911430",
     "exception": false,
     "start_time": "2022-07-19T15:45:34.905027",
     "status": "completed"
    },
    "tags": []
   },
   "source": [
    "- Our assumption is that outlier data points will have higher inter-neuron distances (IND). So let us take winning nodes with highest INDs and extract the customers in those nodes. These will be the outliers, or in our case fraudulent customers\n",
    "- win_map: Creates a dictionary that indicates mapping of each winning node its customers. We will use this function to extract the list of customers in White boxes (highest IMD)"
   ]
  },
  {
   "cell_type": "code",
   "execution_count": 9,
   "id": "bd6f2bcb",
   "metadata": {
    "execution": {
     "iopub.execute_input": "2022-07-19T15:45:34.926957Z",
     "iopub.status.busy": "2022-07-19T15:45:34.926222Z",
     "iopub.status.idle": "2022-07-19T15:45:34.945844Z",
     "shell.execute_reply": "2022-07-19T15:45:34.944990Z"
    },
    "papermill": {
     "duration": 0.030145,
     "end_time": "2022-07-19T15:45:34.948137",
     "exception": false,
     "start_time": "2022-07-19T15:45:34.917992",
     "status": "completed"
    },
    "tags": []
   },
   "outputs": [],
   "source": [
    "mappings = som.win_map(X)\n",
    "frauds = np.concatenate((mappings[(3,7)], mappings[(3,8)]), axis = 0)"
   ]
  },
  {
   "cell_type": "markdown",
   "id": "c61512ac",
   "metadata": {
    "papermill": {
     "duration": 0.006453,
     "end_time": "2022-07-19T15:45:34.961236",
     "exception": false,
     "start_time": "2022-07-19T15:45:34.954783",
     "status": "completed"
    },
    "tags": []
   },
   "source": [
    "### CustomerIDs of Fraudulent customers"
   ]
  },
  {
   "cell_type": "code",
   "execution_count": 10,
   "id": "c37bf578",
   "metadata": {
    "execution": {
     "iopub.execute_input": "2022-07-19T15:45:34.976851Z",
     "iopub.status.busy": "2022-07-19T15:45:34.976240Z",
     "iopub.status.idle": "2022-07-19T15:45:34.984536Z",
     "shell.execute_reply": "2022-07-19T15:45:34.982962Z"
    },
    "papermill": {
     "duration": 0.018888,
     "end_time": "2022-07-19T15:45:34.986885",
     "exception": false,
     "start_time": "2022-07-19T15:45:34.967997",
     "status": "completed"
    },
    "tags": []
   },
   "outputs": [
    {
     "data": {
      "text/plain": [
       "array([15571121, 15660390, 15577515, 15705343, 15657778, 15652658,\n",
       "       15624595, 15688264, 15746258, 15644878, 15671987, 15700511,\n",
       "       15687688, 15638610, 15649160, 15621244, 15632789, 15567834,\n",
       "       15591035, 15608804, 15572361])"
      ]
     },
     "execution_count": 10,
     "metadata": {},
     "output_type": "execute_result"
    }
   ],
   "source": [
    "#Inverse transform scaled values\n",
    "frauds_orig = sc.inverse_transform(frauds)\n",
    "frauds_orig= frauds_orig[:,0].astype(\"int64\")\n",
    "frauds_orig"
   ]
  },
  {
   "cell_type": "markdown",
   "id": "761306f3",
   "metadata": {
    "papermill": {
     "duration": 0.006618,
     "end_time": "2022-07-19T15:45:35.000412",
     "exception": false,
     "start_time": "2022-07-19T15:45:34.993794",
     "status": "completed"
    },
    "tags": []
   },
   "source": [
    "References:\n",
    "- https://github.com/JustGlowing/minisom\n",
    "- https://glowingpython.blogspot.com/2013/09/self-organizing-maps.html\n",
    "- https://heartbeat.comet.ml/introduction-to-self-organizing-maps-soms-98e88b568f5d\n",
    "- https://www.udemy.com/course/deeplearning/"
   ]
  },
  {
   "cell_type": "code",
   "execution_count": null,
   "id": "6eb2bb8c",
   "metadata": {
    "papermill": {
     "duration": 0.006764,
     "end_time": "2022-07-19T15:45:35.014199",
     "exception": false,
     "start_time": "2022-07-19T15:45:35.007435",
     "status": "completed"
    },
    "tags": []
   },
   "outputs": [],
   "source": []
  }
 ],
 "metadata": {
  "kernelspec": {
   "display_name": "Python 3",
   "language": "python",
   "name": "python3"
  },
  "language_info": {
   "codemirror_mode": {
    "name": "ipython",
    "version": 3
   },
   "file_extension": ".py",
   "mimetype": "text/x-python",
   "name": "python",
   "nbconvert_exporter": "python",
   "pygments_lexer": "ipython3",
   "version": "3.7.12"
  },
  "papermill": {
   "default_parameters": {},
   "duration": 25.831931,
   "end_time": "2022-07-19T15:45:35.744703",
   "environment_variables": {},
   "exception": null,
   "input_path": "__notebook__.ipynb",
   "output_path": "__notebook__.ipynb",
   "parameters": {},
   "start_time": "2022-07-19T15:45:09.912772",
   "version": "2.3.4"
  }
 },
 "nbformat": 4,
 "nbformat_minor": 5
}
